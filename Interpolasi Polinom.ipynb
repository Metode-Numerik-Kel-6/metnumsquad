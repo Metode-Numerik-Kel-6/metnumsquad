{
 "cells": [
  {
   "cell_type": "code",
   "execution_count": 1,
   "id": "d0618855",
   "metadata": {},
   "outputs": [
    {
     "name": "stdout",
     "output_type": "stream",
     "text": [
      "Masukkan berapa derajat: 2\n",
      "Masukkan data tabel x dan y \n",
      "x[0]=40\n",
      "y[0]=28\n",
      "x[1]=50\n",
      "y[1]=32\n",
      "x[2]=60\n",
      "y[2]=42\n",
      "Masukkan x yang akan dicari y nya: 65\n",
      "Hasil interpolasi pada nilai x 65.00 adalah y dengan nilai 49.25.\n"
     ]
    }
   ],
   "source": [
    "#Interpolasi Polinom Lagrange\n",
    "\n",
    "#Library\n",
    "import numpy as np\n",
    "\n",
    "#deklarasi derajat polinom\n",
    "derajat = int(input('Masukkan berapa derajat: '))\n",
    "n = derajat+1\n",
    "\n",
    "#buat tampungan array berdasarkan derajat\n",
    "x = np.zeros((n))\n",
    "y = np.zeros((n))\n",
    "\n",
    "\n",
    "#Inputan data x y tabel\n",
    "print('Masukkan data tabel x dan y ')\n",
    "for i in range(n):\n",
    "    x[i] = float(input( 'x['+str(i)+']='))\n",
    "    y[i] = float(input( 'y['+str(i)+']='))\n",
    "\n",
    "#masukkan x yang akan dicari y nya\n",
    "xp = float(input('Masukkan x yang akan dicari y nya: '))\n",
    "yp = 0\n",
    "\n",
    "\n",
    "#Proses Penghitungan\n",
    "#untuk setiap derajat\n",
    "for i in range(n):\n",
    "    \n",
    "    p = 1\n",
    "    \n",
    "    #untuk mencari L di setiap derajat\n",
    "    for j in range(n):\n",
    "        if i != j:\n",
    "            p = p * (xp - x[j])/(x[i] - x[j])\n",
    "            \n",
    "    #mengakumulasikan y\n",
    "    yp = yp + p * y[i]    \n",
    "\n",
    "\n",
    "print('Hasil interpolasi pada nilai x %.2f adalah y dengan nilai %.2f.' % (xp, yp))"
   ]
  },
  {
   "cell_type": "code",
   "execution_count": 2,
   "id": "a87c4eed",
   "metadata": {},
   "outputs": [
    {
     "name": "stdout",
     "output_type": "stream",
     "text": [
      "Masukkan berapa derajat: 2\n",
      "Masukkan data tabel x dan y\n",
      "x[0]=40\n",
      "y[0]=28\n",
      "x[1]=50\n",
      "y[1]=32\n",
      "x[2]=60\n",
      "y[2]=42\n",
      "Masukkan x nya: 65\n",
      "Tabel Selisih Terbagi\n",
      "[[28.    0.4   0.03]\n",
      " [32.    1.    0.  ]\n",
      " [42.    0.    0.  ]]\n",
      "—————————————————————\n",
      "Hasil interpolasi pada nilai x 65.00 adalah y dengan nilai 49.25.\n"
     ]
    }
   ],
   "source": [
    "#Interpolasi Polinom Newton\n",
    "\n",
    "#library\n",
    "import numpy as np\n",
    "\n",
    "#deklarasi        \n",
    "ordotabel = int(input(\"Masukkan berapa derajat: \"))\n",
    "n = ordotabel+1\n",
    "x = np.zeros((n))\n",
    "y = np.zeros((n,n))\n",
    "\n",
    "#memasukkan data x y tabel\n",
    "print('Masukkan data tabel x dan y')\n",
    "for i in range(n):\n",
    "    x[i] = float(input( 'x['+str(i)+']='))\n",
    "    y[i][0] = float(input( 'y['+str(i)+']='))\n",
    "ST=np.zeros((n,n))\n",
    "\n",
    "#memasukkan data x yang akan dicari y nya\n",
    "xp=float(input('Masukkan x nya: '))\n",
    "\n",
    "#Mencari Selisih Terbagi\n",
    "for k in range (0,n):\n",
    "    ST[k][0]=y[k][0] #menetapkan angka yang sama untuk ST-0 dengan y0\n",
    "for k in range (1,n):\n",
    "    for i in range (0,n-k):\n",
    "        ST[i][k]=(ST[i+1][k-1]-ST[i][k-1])/(x[i+k]-x[i])\n",
    "\n",
    "print('Tabel Selisih Terbagi')\n",
    "np.set_printoptions(precision = 2, suppress = True, ) #suppress output data agar format tidak saintifik\n",
    "print(ST)\n",
    "\n",
    "\n",
    "#Proses penghitungan\n",
    "    \n",
    "print('—————————————————————')\n",
    "yp=ST[0,0]\n",
    "for i in range (1,n):\n",
    "    a=ST[0][i]\n",
    "    for k in range (0,i):\n",
    "        a=a*(xp-x[k]) #penghitungan a di setiap derajat\n",
    "    yp=yp+a #akumulasi penghitungan untuk y\n",
    "    \n",
    "print('Hasil interpolasi pada nilai x %.2f adalah y dengan nilai %.2f.' % (xp, yp))\n"
   ]
  },
  {
   "cell_type": "code",
   "execution_count": null,
   "id": "1c9d352a",
   "metadata": {},
   "outputs": [],
   "source": []
  }
 ],
 "metadata": {
  "kernelspec": {
   "display_name": "Python 3 (ipykernel)",
   "language": "python",
   "name": "python3"
  },
  "language_info": {
   "codemirror_mode": {
    "name": "ipython",
    "version": 3
   },
   "file_extension": ".py",
   "mimetype": "text/x-python",
   "name": "python",
   "nbconvert_exporter": "python",
   "pygments_lexer": "ipython3",
   "version": "3.10.0"
  }
 },
 "nbformat": 4,
 "nbformat_minor": 5
}
