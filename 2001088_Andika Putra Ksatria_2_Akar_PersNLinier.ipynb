{
 "cells": [
  {
   "cell_type": "markdown",
   "metadata": {
    "id": "Tlb0XvJxS_oW"
   },
   "source": [
    "## **Akar Persamaan Non-Linier**\n",
    "Berikut ini merupakan fungsi dasar dari metode yang dapat digunakan untuk mencari akar Persamaan non-Linier"
   ]
  },
  {
   "cell_type": "markdown",
   "metadata": {
    "id": "8zXDT3F6UTm8"
   },
   "source": [
    "**Pencarian Akar dengan Library**\n",
    "\n",
    "Contoh Fungsi: f(x) = cos(x)-x"
   ]
  },
  {
   "cell_type": "code",
   "execution_count": 1,
   "metadata": {
    "colab": {
     "base_uri": "https://localhost:8080/"
    },
    "id": "gMnlEqjjUnAa",
    "outputId": "dba31922-a0e9-40d4-b136-dad342f9b7fa"
   },
   "outputs": [
    {
     "name": "stdout",
     "output_type": "stream",
     "text": [
      "r = [0.73908513]\n",
      "result= [0.]\n"
     ]
    }
   ],
   "source": [
    "import numpy as np\n",
    "from scipy import optimize\n",
    "f = lambda x: np.cos(x) - x #lambda-> menulis fungsi seperti f(x) f(x)\n",
    "r = optimize.fsolve(f, -2)\n",
    "print(\"r =\",r)\n",
    "# Verify the solution is a root\n",
    "result = f(r) #memastikan f(x)=0 atau y=0\n",
    "print(\"result=\", result)"
   ]
  },
  {
   "cell_type": "markdown",
   "metadata": {
    "id": "ySxrsdzGTn0Z"
   },
   "source": [
    "**Metode Bagi Dua**"
   ]
  },
  {
   "cell_type": "code",
   "execution_count": 11,
   "metadata": {
    "id": "j7lAxfNeS9M0"
   },
   "outputs": [],
   "source": [
    "import numpy as np #panggil library\n",
    "def my_bisection(f, a, b, e):\n",
    "  if np.sign(f(a)) == np.sign(f(b)): #melihat tanda min atau plus menggunakan numpy.sign -> apabila tandanya sama\n",
    "    raise Exception('Tidak ada akar pada interval a dan b')\n",
    "  m = (a + b)/2 #mencari titik tengah\n",
    "  if np.abs(f(m)) < e: #mengecek apakah fungsi dr titik tengah telah kurang dr epsilon?\n",
    "    return m #jawaban yg diminta\n",
    "  elif np.sign(f(a)) == np.sign(f(m)):\n",
    "    return my_bisection(f, m, b, e)\n",
    "  elif np.sign(f(b)) == np.sign(f(m)):\n",
    "    return my_bisection(f, a, m, e)"
   ]
  },
  {
   "cell_type": "markdown",
   "metadata": {
    "id": "QK5X5eINXZln"
   },
   "source": [
    "**Contoh Pencarian Akar dengan Metode Bagi Dua**\n",
    "\n",
    "f(x)=x^2 - 2"
   ]
  },
  {
   "cell_type": "code",
   "execution_count": 12,
   "metadata": {
    "colab": {
     "base_uri": "https://localhost:8080/"
    },
    "id": "eJr_l7e2XyM0",
    "outputId": "9f0a0bf6-a59a-4ae7-fc1c-e4c436d940ea"
   },
   "outputs": [
    {
     "name": "stdout",
     "output_type": "stream",
     "text": [
      "r1 = 1.4375\n",
      "f(r1) = 0.06640625\n",
      "r01 = 1.4140625\n",
      "f(r01) = -0.00042724609375\n"
     ]
    }
   ],
   "source": [
    "import numpy as np #panggil library\n",
    "f = lambda x: x**2-2\n",
    "\n",
    "r1 = my_bisection(f, 0, 2, 0.1)\n",
    "print(\"r1 =\", r1)\n",
    "print(\"f(r1) =\", f(r1))\n",
    "\n",
    "r01 = my_bisection(f, 0, 2, 0.01)\n",
    "print(\"r01 =\", r01)\n",
    "print(\"f(r01) =\", f(r01))"
   ]
  },
  {
   "cell_type": "code",
   "execution_count": 13,
   "metadata": {
    "colab": {
     "base_uri": "https://localhost:8080/",
     "height": 322
    },
    "id": "wXEmWDL3Yh1R",
    "outputId": "66a66430-8175-4210-f0f5-180d79f1eb76"
   },
   "outputs": [
    {
     "ename": "Exception",
     "evalue": "ignored",
     "output_type": "error",
     "traceback": [
      "\u001b[0;31m---------------------------------------------------------------------------\u001b[0m",
      "\u001b[0;31mException\u001b[0m                                 Traceback (most recent call last)",
      "\u001b[0;32m<ipython-input-13-9db7d48a44ca>\u001b[0m in \u001b[0;36m<module>\u001b[0;34m\u001b[0m\n\u001b[1;32m      1\u001b[0m \u001b[0;32mimport\u001b[0m \u001b[0mnumpy\u001b[0m \u001b[0;32mas\u001b[0m \u001b[0mnp\u001b[0m \u001b[0;31m#panggil library\u001b[0m\u001b[0;34m\u001b[0m\u001b[0;34m\u001b[0m\u001b[0m\n\u001b[1;32m      2\u001b[0m \u001b[0mf\u001b[0m \u001b[0;34m=\u001b[0m \u001b[0;32mlambda\u001b[0m \u001b[0mx\u001b[0m\u001b[0;34m:\u001b[0m \u001b[0mx\u001b[0m\u001b[0;34m**\u001b[0m\u001b[0;36m2\u001b[0m\u001b[0;34m-\u001b[0m\u001b[0;36m2\u001b[0m\u001b[0;34m\u001b[0m\u001b[0;34m\u001b[0m\u001b[0m\n\u001b[0;32m----> 3\u001b[0;31m \u001b[0mmy_bisection\u001b[0m\u001b[0;34m(\u001b[0m\u001b[0mf\u001b[0m\u001b[0;34m,\u001b[0m \u001b[0;36m2\u001b[0m\u001b[0;34m,\u001b[0m \u001b[0;36m4\u001b[0m\u001b[0;34m,\u001b[0m \u001b[0;36m0.01\u001b[0m\u001b[0;34m)\u001b[0m\u001b[0;34m\u001b[0m\u001b[0;34m\u001b[0m\u001b[0m\n\u001b[0m",
      "\u001b[0;32m<ipython-input-11-232ee789a6b2>\u001b[0m in \u001b[0;36mmy_bisection\u001b[0;34m(f, a, b, e)\u001b[0m\n\u001b[1;32m      2\u001b[0m \u001b[0;32mdef\u001b[0m \u001b[0mmy_bisection\u001b[0m\u001b[0;34m(\u001b[0m\u001b[0mf\u001b[0m\u001b[0;34m,\u001b[0m \u001b[0ma\u001b[0m\u001b[0;34m,\u001b[0m \u001b[0mb\u001b[0m\u001b[0;34m,\u001b[0m \u001b[0me\u001b[0m\u001b[0;34m)\u001b[0m\u001b[0;34m:\u001b[0m\u001b[0;34m\u001b[0m\u001b[0;34m\u001b[0m\u001b[0m\n\u001b[1;32m      3\u001b[0m   \u001b[0;32mif\u001b[0m \u001b[0mnp\u001b[0m\u001b[0;34m.\u001b[0m\u001b[0msign\u001b[0m\u001b[0;34m(\u001b[0m\u001b[0mf\u001b[0m\u001b[0;34m(\u001b[0m\u001b[0ma\u001b[0m\u001b[0;34m)\u001b[0m\u001b[0;34m)\u001b[0m \u001b[0;34m==\u001b[0m \u001b[0mnp\u001b[0m\u001b[0;34m.\u001b[0m\u001b[0msign\u001b[0m\u001b[0;34m(\u001b[0m\u001b[0mf\u001b[0m\u001b[0;34m(\u001b[0m\u001b[0mb\u001b[0m\u001b[0;34m)\u001b[0m\u001b[0;34m)\u001b[0m\u001b[0;34m:\u001b[0m\u001b[0;34m\u001b[0m\u001b[0;34m\u001b[0m\u001b[0m\n\u001b[0;32m----> 4\u001b[0;31m     \u001b[0;32mraise\u001b[0m \u001b[0mException\u001b[0m\u001b[0;34m(\u001b[0m\u001b[0;34m'Tidak ada akar pada interval a dan b'\u001b[0m\u001b[0;34m)\u001b[0m\u001b[0;34m\u001b[0m\u001b[0;34m\u001b[0m\u001b[0m\n\u001b[0m\u001b[1;32m      5\u001b[0m   \u001b[0mm\u001b[0m \u001b[0;34m=\u001b[0m \u001b[0;34m(\u001b[0m\u001b[0ma\u001b[0m \u001b[0;34m+\u001b[0m \u001b[0mb\u001b[0m\u001b[0;34m)\u001b[0m\u001b[0;34m/\u001b[0m\u001b[0;36m2\u001b[0m\u001b[0;34m\u001b[0m\u001b[0;34m\u001b[0m\u001b[0m\n\u001b[1;32m      6\u001b[0m   \u001b[0;32mif\u001b[0m \u001b[0mnp\u001b[0m\u001b[0;34m.\u001b[0m\u001b[0mabs\u001b[0m\u001b[0;34m(\u001b[0m\u001b[0mf\u001b[0m\u001b[0;34m(\u001b[0m\u001b[0mm\u001b[0m\u001b[0;34m)\u001b[0m\u001b[0;34m)\u001b[0m \u001b[0;34m<\u001b[0m \u001b[0me\u001b[0m\u001b[0;34m:\u001b[0m\u001b[0;34m\u001b[0m\u001b[0;34m\u001b[0m\u001b[0m\n",
      "\u001b[0;31mException\u001b[0m: Tidak ada akar pada interval a dan b"
     ]
    }
   ],
   "source": [
    "import numpy as np #panggil library\n",
    "f = lambda x: x**2-2\n",
    "my_bisection(f, 2, 4, 0.01)"
   ]
  },
  {
   "cell_type": "markdown",
   "metadata": {
    "id": "uqd3qNtxS939"
   },
   "source": [
    "**Metode Newton-Raphson**"
   ]
  },
  {
   "cell_type": "code",
   "execution_count": 5,
   "metadata": {
    "id": "NWM7-9tpVr0a"
   },
   "outputs": [],
   "source": [
    "import numpy as np #panggil library\n",
    "def my_newton(f, df, x0, e):\n",
    "# output is an estimation of the root of f\n",
    "# using the Newton-Raphson method\n",
    "# recursive implementation\n",
    "  if abs(f(x0)) < e: #mengecek apakah hasil dapat diterima\n",
    "    return x0 #mengembalikan hasil yang diminta\n",
    "  else:\n",
    "    return my_newton(f, df, x0 - f(x0)/df(x0), e) #secara otomatis akan mengisi value x0 baru hasil hitungan x0 lama dengan memasukan lambdanya ke function"
   ]
  },
  {
   "cell_type": "markdown",
   "metadata": {
    "id": "ffztAnc9ZbtI"
   },
   "source": [
    "**Contoh Pencarian Akar dengan Metode Bagi Dua**\n",
    "\n",
    "f(x)=x^2 - 2"
   ]
  },
  {
   "cell_type": "code",
   "execution_count": 15,
   "metadata": {
    "colab": {
     "base_uri": "https://localhost:8080/"
    },
    "id": "zFJnxIytZhln",
    "outputId": "e6d71caf-ed8a-4bd9-8946-7e39709d49c1"
   },
   "outputs": [
    {
     "name": "stdout",
     "output_type": "stream",
     "text": [
      "estimate = 1.4142135623746899\n",
      "sqrt(2) = 1.4142135623730951\n"
     ]
    }
   ],
   "source": [
    "f = lambda x: x**2-2 #fungsi utama\n",
    "f_prime = lambda x: 2*x #fungsi turunan\n",
    "estimate = my_newton(f, f_prime, 1.5, 1e-6) #akan mengembalikan nilai x yang telah dapat diterima\n",
    "print(\"estimate =\", estimate) #menampilkan hasil hitung sebagai nilai hampiran\n",
    "print(\"sqrt(2) =\",np.sqrt(2)) #menampilkan akar dua sebagai hasil tetapan"
   ]
  },
  {
   "cell_type": "markdown",
   "metadata": {
    "id": "_l79MbNaaO9N"
   },
   "source": [
    "# **Latihan**"
   ]
  },
  {
   "cell_type": "markdown",
   "metadata": {
    "id": "XX6f9MQOaTas"
   },
   "source": [
    "**No.1 **\n",
    "Buatlah sebuah fungsi penyelesaian yang tepat baik dengan menggunakan metode Bagi Dua maupun Newton Raphson ketika \n",
    "\n",
    "a. f(x) = x^3 - 2x + 1\n",
    "\n",
    "b. f(x) = e^x - x\n",
    "\n",
    "**No 2**\n",
    "\n",
    "Buatlah modifikasi fungsi ketika kriteria program berhenti adalah sudah mencapai pada iterasi ke-n baik untuk Bagi Dua maupun Newton Raphson"
   ]
  },
  {
   "cell_type": "code",
   "execution_count": 3,
   "metadata": {
    "id": "MjocESJra-b5"
   },
   "outputs": [
    {
     "name": "stdout",
     "output_type": "stream",
     "text": [
      "Masukkan batas iterasi: 2\n",
      "estimate = 1.4166666666666667\n"
     ]
    }
   ],
   "source": [
    "\n",
    "import math\n",
    "i = 1 #inisiasi iterasi pertama\n",
    "y = int(input(\"Masukkan batas iterasi: \")) #input untuk batas iterasi\n",
    "def my_newton(f, df, x0, e, i, y):\n",
    "# output is an estimation of the root of f\n",
    "# using the Newton-Raphson method\n",
    "# recursive implementation\n",
    "  if (abs(f(x0)) < e) | (i==y) : #Mengecek apakah hasil sudah dapat diterima sekaligus ditambahkan modifikasi batasan iterasi\n",
    "    return x0 \n",
    "  else:\n",
    "    i+=1\n",
    "    return my_newton(f, df, x0 - f(x0)/df(x0), e, i, y) \n",
    "    \n",
    "f = lambda x: x**2-2 #fungsi\n",
    "f_prime = lambda x: 2*x \n",
    "estimate = my_newton(f, f_prime, 1.5, 1e-6, i, y) \n",
    "print(\"estimate =\", estimate)\n",
    "\n",
    "#nomor 1(b) tidak dapat dilakukan analisa numerik baik dengan menggunakan \n",
    "#metode bagi dua maupun Newton-Raphson karena tidak ada garis yang menyentuh sumbu x"
   ]
  },
  {
   "cell_type": "code",
   "execution_count": null,
   "metadata": {},
   "outputs": [],
   "source": []
  }
 ],
 "metadata": {
  "colab": {
   "provenance": []
  },
  "kernelspec": {
   "display_name": "Python 3 (ipykernel)",
   "language": "python",
   "name": "python3"
  },
  "language_info": {
   "codemirror_mode": {
    "name": "ipython",
    "version": 3
   },
   "file_extension": ".py",
   "mimetype": "text/x-python",
   "name": "python",
   "nbconvert_exporter": "python",
   "pygments_lexer": "ipython3",
   "version": "3.10.0"
  }
 },
 "nbformat": 4,
 "nbformat_minor": 1
}
