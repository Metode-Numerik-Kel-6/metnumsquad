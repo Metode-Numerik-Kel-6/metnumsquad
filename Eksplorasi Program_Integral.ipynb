{
  "cells": [
    {
      "cell_type": "markdown",
      "metadata": {
        "id": "kNgPG_pggGU1"
      },
      "source": [
        "# **Integral**"
      ]
    },
    {
      "cell_type": "markdown",
      "metadata": {
        "id": "7FlLrLe5gukc"
      },
      "source": [
        "**Integral Riemann**"
      ]
    },
    {
      "cell_type": "code",
      "execution_count": 1,
      "metadata": {
        "colab": {
          "base_uri": "https://localhost:8080/"
        },
        "id": "xG5MIA_WgCjx",
        "outputId": "1c71a2fd-2965-42b2-ffc4-ddef47402ab1"
      },
      "outputs": [
        {
          "name": "stdout",
          "output_type": "stream",
          "text": [
            "1.9835235375094546\n",
            "0.01647646249054535\n",
            "1.9835235375094546\n",
            "0.01647646249054535\n",
            "2.0082484079079745\n",
            "-0.008248407907974542\n"
          ]
        }
      ],
      "source": [
        "import numpy as np\n",
        "\n",
        "a = 0\n",
        "b = np.pi\n",
        "n = 11\n",
        "h = (b - a) / (n - 1)\n",
        "x = np.linspace(a, b, n)\n",
        "f = np.sin(x)\n",
        "\n",
        "I_riemannL = h * sum(f[:n-1])\n",
        "err_riemannL = 2 - I_riemannL\n",
        "\n",
        "I_riemannR = h * sum(f[1::])\n",
        "err_riemannR = 2 - I_riemannR\n",
        "\n",
        "I_mid = h * sum(np.sin((x[:n-1] \\\n",
        "        + x[1:])/2))\n",
        "err_mid = 2 - I_mid\n",
        "\n",
        "print(I_riemannL)\n",
        "print(err_riemannL)\n",
        "\n",
        "print(I_riemannR)\n",
        "print(err_riemannR)\n",
        "\n",
        "print(I_mid)\n",
        "print(err_mid)"
      ]
    },
    {
      "cell_type": "markdown",
      "metadata": {
        "id": "dZK40xAgjJOO"
      },
      "source": [
        "**Metode Simpson's 1/3**"
      ]
    },
    {
      "cell_type": "code",
      "execution_count": null,
      "metadata": {
        "id": "JVl9InFqjENi"
      },
      "outputs": [],
      "source": [
        "# Simpson's 1/3\n",
        "\n",
        "# Mendefinisikan Fungsi yang akan dihitung\n",
        "def f(x):\n",
        "    return 1/(1 + x**2)\n",
        "\n",
        "# Implementasi simpson 1/3\n",
        "#Mendefinisikan method:\n",
        "def simpson13(x0,xn,n):\n",
        "    # Menghitung jumlah langkah yang akan dibuat\n",
        "    h = (xn - x0) / n\n",
        "    \n",
        "    # Menghitung jumlah akumulasi\n",
        "    integration = f(x0) + f(xn)\n",
        "    \n",
        "    for i in range(1,n):\n",
        "        k = x0 + i*h\n",
        "        \n",
        "        #cek ganjil/genap\n",
        "        if i%2 == 0:\n",
        "            integration = integration + 2 * f(k)\n",
        "        else:\n",
        "            integration = integration + 4 * f(k)\n",
        "    \n",
        "    # Cari nilai akhir integral\n",
        "    integration = integration * h/3\n",
        "    \n",
        "    return integration\n",
        "    \n",
        "# Penginputan dengan menginput batas atas, batas bawah dan sub-intervalnya\n",
        "lower_limit = float(input(\"Enter lower limit of integration: \"))\n",
        "upper_limit = float(input(\"Enter upper limit of integration: \"))\n",
        "sub_interval = int(input(\"Enter number of sub intervals: \"))\n",
        "\n",
        "# Panggil metode yang telah dibuat\n",
        "result = simpson13(lower_limit, upper_limit, sub_interval)\n",
        "print(\"Integration result by Simpson's 1/3 method is: %0.6f\" % (result) )"
      ]
    },
    {
      "cell_type": "markdown",
      "metadata": {
        "id": "ACX3Knibjf_E"
      },
      "source": [
        "**Metode Simpson's 3/8**"
      ]
    },
    {
      "cell_type": "code",
      "execution_count": null,
      "metadata": {
        "id": "6gSJZphMjjd4"
      },
      "outputs": [],
      "source": [
        "# Simpson's 3/8 Rule\n",
        "\n",
        "# Pendefinisian fungsi yang akan di hitung\n",
        "def f(x):\n",
        "    return 1/(1 + x**2)\n",
        "\n",
        "# Mengimplementasikan rumus Simpson's 3/8\n",
        "#Mendefinisikan method\n",
        "def simpson38(x0,xn,n):\n",
        "    # Menghitung langkah yang akan dibuat\n",
        "    h = (xn - x0) / n\n",
        "    \n",
        "    # Menghitung akumulasi integral\n",
        "    integration = f(x0) + f(xn)\n",
        "    \n",
        "    for i in range(1,n):\n",
        "        k = x0 + i*h #menghitung nilai yang akan dimasukkan ke fungsi untuk dihitung integralnya\n",
        "        \n",
        "\n",
        "        if i%2 == 0: #cek ganjil genap\n",
        "            integration = integration + 2 * f(k)\n",
        "        else:\n",
        "            integration = integration + 3 * f(k)\n",
        "    \n",
        "    # Mencari nilai akhir integral\n",
        "    integration = integration * 3 * h / 8\n",
        "    \n",
        "    return integration\n",
        "    \n",
        "# Sesi inputan, memasukkan nilai bawah, nilai atas dan sub interval\n",
        "lower_limit = float(input(\"Enter lower limit of integration: \"))\n",
        "upper_limit = float(input(\"Enter upper limit of integration: \"))\n",
        "sub_interval = int(input(\"Enter number of sub intervals: \"))\n",
        "\n",
        "# Pemanggilan method yang telah dibuat\n",
        "result = simpson38(lower_limit, upper_limit, sub_interval)\n",
        "print(\"Integration result by Simpson's 3/8 method is: %0.6f\" % (result) )"
      ]
    }
  ],
  "metadata": {
    "colab": {
      "provenance": []
    },
    "kernelspec": {
      "display_name": "Python 3",
      "language": "python",
      "name": "python3"
    },
    "language_info": {
      "name": "python",
      "version": "3.10.0 (tags/v3.10.0:b494f59, Oct  4 2021, 19:00:18) [MSC v.1929 64 bit (AMD64)]"
    },
    "vscode": {
      "interpreter": {
        "hash": "26de051ba29f2982a8de78e945f0abaf191376122a1563185a90213a26c5da77"
      }
    }
  },
  "nbformat": 4,
  "nbformat_minor": 0
}
