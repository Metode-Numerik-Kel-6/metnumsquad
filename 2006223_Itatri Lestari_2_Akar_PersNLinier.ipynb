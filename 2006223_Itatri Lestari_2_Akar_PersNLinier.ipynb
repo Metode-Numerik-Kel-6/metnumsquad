{
  "cells": [
    {
      "cell_type": "markdown",
      "metadata": {
        "id": "Tlb0XvJxS_oW"
      },
      "source": [
        "## **Akar Persamaan Non-Linier**\n",
        "Berikut ini merupakan fungsi dasar dari metode yang dapat digunakan untuk mencari akar Persamaan non-Linier"
      ]
    },
    {
      "cell_type": "markdown",
      "metadata": {
        "id": "8zXDT3F6UTm8"
      },
      "source": [
        "**Pencarian Akar dengan Library**\n",
        "\n",
        "Contoh Fungsi: f(x) = cos(x)-x"
      ]
    },
    {
      "cell_type": "code",
      "execution_count": 1,
      "metadata": {
        "colab": {
          "base_uri": "https://localhost:8080/"
        },
        "id": "gMnlEqjjUnAa",
        "outputId": "dba31922-a0e9-40d4-b136-dad342f9b7fa"
      },
      "outputs": [
        {
          "ename": "ModuleNotFoundError",
          "evalue": "No module named 'numpy'",
          "output_type": "error",
          "traceback": [
            "\u001b[1;31m---------------------------------------------------------------------------\u001b[0m",
            "\u001b[1;31mModuleNotFoundError\u001b[0m                       Traceback (most recent call last)",
            "Cell \u001b[1;32mIn [1], line 1\u001b[0m\n\u001b[1;32m----> 1\u001b[0m \u001b[38;5;28;01mimport\u001b[39;00m \u001b[38;5;21;01mnumpy\u001b[39;00m \u001b[38;5;28;01mas\u001b[39;00m \u001b[38;5;21;01mnp\u001b[39;00m\n\u001b[0;32m      2\u001b[0m \u001b[38;5;28;01mfrom\u001b[39;00m \u001b[38;5;21;01mscipy\u001b[39;00m \u001b[38;5;28;01mimport\u001b[39;00m optimize \u001b[38;5;66;03m# menemukan nilai minimum suatu akar persamaan\u001b[39;00m\n\u001b[0;32m      3\u001b[0m f \u001b[38;5;241m=\u001b[39m \u001b[38;5;28;01mlambda\u001b[39;00m x: np\u001b[38;5;241m.\u001b[39mcos(x) \u001b[38;5;241m-\u001b[39m x \u001b[38;5;66;03m# lambda sama kayak f(x)\u001b[39;00m\n",
            "\u001b[1;31mModuleNotFoundError\u001b[0m: No module named 'numpy'"
          ]
        }
      ],
      "source": [
        "import numpy as np\n",
        "from scipy import optimize # menemukan nilai minimum suatu akar persamaan\n",
        "f = lambda x: np.cos(x) - x # lambda x sama aja kayak f(x)\n",
        "r = optimize.fsolve(f, -2)\n",
        "print(\"r =\",r)\n",
        "# Verify the solution is a root\n",
        "result = f(r) # untuk memastikan bahwa apakah f(x) = 0 atau y(x) = 0\n",
        "print(\"result=\", result)"
      ]
    },
    {
      "cell_type": "markdown",
      "metadata": {
        "id": "ySxrsdzGTn0Z"
      },
      "source": [
        "**Metode Bagi Dua**"
      ]
    },
    {
      "cell_type": "code",
      "execution_count": 3,
      "metadata": {
        "id": "j7lAxfNeS9M0"
      },
      "outputs": [
        {
          "ename": "ModuleNotFoundError",
          "evalue": "No module named 'numpy'",
          "output_type": "error",
          "traceback": [
            "\u001b[1;31m---------------------------------------------------------------------------\u001b[0m",
            "\u001b[1;31mModuleNotFoundError\u001b[0m                       Traceback (most recent call last)",
            "Cell \u001b[1;32mIn [3], line 1\u001b[0m\n\u001b[1;32m----> 1\u001b[0m \u001b[38;5;28;01mimport\u001b[39;00m \u001b[38;5;21;01mnumpy\u001b[39;00m \u001b[38;5;28;01mas\u001b[39;00m \u001b[38;5;21;01mnp\u001b[39;00m \u001b[38;5;66;03m# panggil library\u001b[39;00m\n\u001b[0;32m      2\u001b[0m \u001b[38;5;28;01mdef\u001b[39;00m \u001b[38;5;21mmy_bisection\u001b[39m(f, a, b, e):\n\u001b[0;32m      3\u001b[0m   \u001b[38;5;28;01mif\u001b[39;00m np\u001b[38;5;241m.\u001b[39msign(f(a)) \u001b[38;5;241m==\u001b[39m np\u001b[38;5;241m.\u001b[39msign(f(b)): \u001b[38;5;66;03m# np.sign digunakan untuk mengecek apakah tanda dari f(a) sama dengan f(b)\u001b[39;00m\n",
            "\u001b[1;31mModuleNotFoundError\u001b[0m: No module named 'numpy'"
          ]
        }
      ],
      "source": [
        "import numpy as np # panggil library\n",
        "def my_bisection(f, a, b, e):\n",
        "  if np.sign(f(a)) == np.sign(f(b)): # np.sign digunakan untuk mengecek apakah tanda dari f(a) sama dengan f(b)\n",
        "    raise Exception('Tidak ada akar pada interval a dan b') # karena f(a) == f(b) maka selesai\n",
        "  m = (a + b)/2 # rumus mencari titik tengah\n",
        "  if np.abs(f(m)) < e: # mengecek apakah titik tengah < epsilon\n",
        "    return m\n",
        "  elif np.sign(f(a)) == np.sign(f(m)): # jika tanda f(a) == f(b)\n",
        "    return my_bisection(f, m, b, e) # maka a = m\n",
        "  elif np.sign(f(b)) == np.sign(f(m)): # namun tanda jika f(b) = f(m)\n",
        "    return my_bisection(f, a, m, e) # maka b = m"
      ]
    },
    {
      "cell_type": "markdown",
      "metadata": {
        "id": "QK5X5eINXZln"
      },
      "source": [
        "**Contoh Pencarian Akar dengan Metode Bagi Dua**\n",
        "\n",
        "f(x)=x^2 - 2"
      ]
    },
    {
      "cell_type": "code",
      "execution_count": 12,
      "metadata": {
        "colab": {
          "base_uri": "https://localhost:8080/"
        },
        "id": "eJr_l7e2XyM0",
        "outputId": "9f0a0bf6-a59a-4ae7-fc1c-e4c436d940ea"
      },
      "outputs": [
        {
          "name": "stdout",
          "output_type": "stream",
          "text": [
            "r1 = 1.4375\n",
            "f(r1) = 0.06640625\n",
            "r01 = 1.4140625\n",
            "f(r01) = -0.00042724609375\n"
          ]
        }
      ],
      "source": [
        "import numpy as np #panggil library\n",
        "f = lambda x: x**2-2\n",
        "\n",
        "r1 = my_bisection(f, 0, 2, 0.1)\n",
        "print(\"r1 =\", r1)\n",
        "print(\"f(r1) =\", f(r1))\n",
        "\n",
        "r01 = my_bisection(f, 0, 2, 0.01)\n",
        "print(\"r01 =\", r01)\n",
        "print(\"f(r01) =\", f(r01))"
      ]
    },
    {
      "cell_type": "code",
      "execution_count": 1,
      "metadata": {
        "colab": {
          "base_uri": "https://localhost:8080/",
          "height": 322
        },
        "id": "wXEmWDL3Yh1R",
        "outputId": "66a66430-8175-4210-f0f5-180d79f1eb76"
      },
      "outputs": [
        {
          "ename": "ModuleNotFoundError",
          "evalue": "No module named 'numpy'",
          "output_type": "error",
          "traceback": [
            "\u001b[1;31m---------------------------------------------------------------------------\u001b[0m",
            "\u001b[1;31mModuleNotFoundError\u001b[0m                       Traceback (most recent call last)",
            "Cell \u001b[1;32mIn [1], line 1\u001b[0m\n\u001b[1;32m----> 1\u001b[0m \u001b[38;5;28;01mimport\u001b[39;00m \u001b[38;5;21;01mnumpy\u001b[39;00m \u001b[38;5;28;01mas\u001b[39;00m \u001b[38;5;21;01mnp\u001b[39;00m \u001b[38;5;66;03m#panggil library\u001b[39;00m\n\u001b[0;32m      2\u001b[0m f \u001b[38;5;241m=\u001b[39m \u001b[38;5;28;01mlambda\u001b[39;00m x: x\u001b[38;5;241m*\u001b[39m\u001b[38;5;241m*\u001b[39m\u001b[38;5;241m2\u001b[39m\u001b[38;5;241m-\u001b[39m\u001b[38;5;241m2\u001b[39m\n\u001b[0;32m      3\u001b[0m my_bisection(f, \u001b[38;5;241m2\u001b[39m, \u001b[38;5;241m4\u001b[39m, \u001b[38;5;241m0.01\u001b[39m)\n",
            "\u001b[1;31mModuleNotFoundError\u001b[0m: No module named 'numpy'"
          ]
        }
      ],
      "source": [
        "import numpy as np #panggil library\n",
        "f = lambda x: x**2-2\n",
        "my_bisection(f, 2, 4, 0.01)"
      ]
    },
    {
      "cell_type": "markdown",
      "metadata": {
        "id": "uqd3qNtxS939"
      },
      "source": [
        "**Metode Newton-Raphson**"
      ]
    },
    {
      "cell_type": "code",
      "execution_count": 2,
      "metadata": {
        "id": "NWM7-9tpVr0a"
      },
      "outputs": [
        {
          "ename": "ModuleNotFoundError",
          "evalue": "No module named 'numpy'",
          "output_type": "error",
          "traceback": [
            "\u001b[1;31m---------------------------------------------------------------------------\u001b[0m",
            "\u001b[1;31mModuleNotFoundError\u001b[0m                       Traceback (most recent call last)",
            "Cell \u001b[1;32mIn [2], line 1\u001b[0m\n\u001b[1;32m----> 1\u001b[0m \u001b[38;5;28;01mimport\u001b[39;00m \u001b[38;5;21;01mnumpy\u001b[39;00m \u001b[38;5;28;01mas\u001b[39;00m \u001b[38;5;21;01mnp\u001b[39;00m \u001b[38;5;66;03m#panggil library\u001b[39;00m\n\u001b[0;32m      2\u001b[0m \u001b[38;5;28;01mdef\u001b[39;00m \u001b[38;5;21mmy_newton\u001b[39m(f, df, x0, e):\n\u001b[0;32m      3\u001b[0m \u001b[38;5;66;03m# output is an estimation of the root of f\u001b[39;00m\n\u001b[0;32m      4\u001b[0m \u001b[38;5;66;03m# using the Newton-Raphson method\u001b[39;00m\n\u001b[0;32m      5\u001b[0m \u001b[38;5;66;03m# recursive implementation\u001b[39;00m\n\u001b[0;32m      6\u001b[0m   \u001b[38;5;28;01mif\u001b[39;00m \u001b[38;5;28mabs\u001b[39m(f(x0)) \u001b[38;5;241m<\u001b[39m e:\n",
            "\u001b[1;31mModuleNotFoundError\u001b[0m: No module named 'numpy'"
          ]
        }
      ],
      "source": [
        "import numpy as np #panggil library\n",
        "def my_newton(f, df, x0, e):\n",
        "# output is an estimation of the root of f\n",
        "# using the Newton-Raphson method\n",
        "# recursive implementation\n",
        "  if abs(f(x0)) < e:\n",
        "    return x0\n",
        "  else:\n",
        "    return my_newton(f, df, x0 - f(x0)/df(x0), e)"
      ]
    },
    {
      "cell_type": "markdown",
      "metadata": {
        "id": "ffztAnc9ZbtI"
      },
      "source": [
        "**Contoh Pencarian Akar dengan Metode Bagi Dua**\n",
        "\n",
        "f(x)=x^2 - 2"
      ]
    },
    {
      "cell_type": "code",
      "execution_count": 15,
      "metadata": {
        "colab": {
          "base_uri": "https://localhost:8080/"
        },
        "id": "zFJnxIytZhln",
        "outputId": "e6d71caf-ed8a-4bd9-8946-7e39709d49c1"
      },
      "outputs": [
        {
          "name": "stdout",
          "output_type": "stream",
          "text": [
            "estimate = 1.4142135623746899\n",
            "sqrt(2) = 1.4142135623730951\n"
          ]
        }
      ],
      "source": [
        "f = lambda x: x**2-2\n",
        "f_prime = lambda x: 2*x\n",
        "estimate = my_newton(f, f_prime, 1.5, 1e-6)\n",
        "print(\"estimate =\", estimate)\n",
        "print(\"sqrt(2) =\",np.sqrt(2))"
      ]
    },
    {
      "cell_type": "markdown",
      "metadata": {
        "id": "_l79MbNaaO9N"
      },
      "source": [
        "# **Latihan**"
      ]
    },
    {
      "cell_type": "markdown",
      "metadata": {
        "id": "XX6f9MQOaTas"
      },
      "source": [
        "**No.1 **\n",
        "Buatlah sebuah fungsi penyelesaian yang tepat baik dengan menggunakan metode Bagi Dua maupun Newton Raphson ketika \n",
        "\n",
        "a. f(x) = x^3 - 2x + 1\n",
        "\n",
        "b. f(x) = e^x - x\n",
        "\n",
        "**No 2**\n",
        "\n",
        "Buatlah modifikasi fungsi ketika kriteria program berhenti adalah sudah mencapai pada iterasi ke-n baik untuk Bagi Dua maupun Newton Raphson"
      ]
    },
    {
      "cell_type": "markdown",
      "metadata": {
        "id": "_l79MbNaaO9N"
      },
      "source": [
        "# **No 1a Metode Bagi Dua**"
      ]
    },
    {
      "cell_type": "code",
      "execution_count": 2,
      "metadata": {
        "id": "MjocESJra-b5"
      },
      "outputs": [
        {
          "ename": "ModuleNotFoundError",
          "evalue": "No module named 'numpy'",
          "output_type": "error",
          "traceback": [
            "\u001b[1;31m---------------------------------------------------------------------------\u001b[0m",
            "\u001b[1;31mModuleNotFoundError\u001b[0m                       Traceback (most recent call last)",
            "Cell \u001b[1;32mIn [2], line 1\u001b[0m\n\u001b[1;32m----> 1\u001b[0m \u001b[38;5;28;01mimport\u001b[39;00m \u001b[38;5;21;01mnumpy\u001b[39;00m \u001b[38;5;28;01mas\u001b[39;00m \u001b[38;5;21;01mnp\u001b[39;00m \u001b[38;5;66;03m# panggil library\u001b[39;00m\n\u001b[0;32m      2\u001b[0m \u001b[38;5;28mprint\u001b[39m(\u001b[38;5;124m\"\u001b[39m\u001b[38;5;124mNo.1\u001b[39m\u001b[38;5;124m\"\u001b[39m)\n\u001b[0;32m      3\u001b[0m \u001b[38;5;28;01mdef\u001b[39;00m \u001b[38;5;21mmy_bisection\u001b[39m(f, a, b, e):\n",
            "\u001b[1;31mModuleNotFoundError\u001b[0m: No module named 'numpy'"
          ]
        }
      ],
      "source": [
        "import numpy as np\n",
        "def inputan(a,b): # untuk menginput nilai a dan b\n",
        "    a = float(input(\"Masukkan nilai a : \"))\n",
        "    b = float(input(\"Masukkan nilai b : \"))\n",
        "    return(a,b)\n",
        "    \n",
        "def f(x): # f(x) = x^3 - 2x + 1\n",
        "    return (x**3-(2*x)+1)\n",
        "    \n",
        "def check(a,b): # untuk mencek apakah f(a)f(b)<0\n",
        "    if np.sign(f(a)) == np.sign(f(b)):\n",
        "        return False\n",
        "    else:\n",
        "        return True\n",
        "     \n",
        "def update(a,b):\n",
        "    iterasi = 1\n",
        "    m = (a + b)/2\n",
        "    print('Iterasi ke-%d, m = %0.6f dan f(m) = %0.6f' % (iterasi, m, f(m)))\n",
        "    if(f(a)*f(m)<0):\n",
        "        b = m\n",
        "    else :\n",
        "        a = m\n",
        "    return (a,b)\n",
        "    \n",
        "def process(a,b,e): # e adalah nilai ketelitian/presisi\n",
        "    while(abs(f(a))>e or abs(f(b))>e):\n",
        "        a,b = update(a,b)\n",
        "        \n",
        "    if(abs(f(a))>abs(f(b))):\n",
        "        return b\n",
        "    else:\n",
        "        return a\n",
        "\n",
        "def main():\n",
        "    a = 0\n",
        "    b = 0\n",
        "    e = 0\n",
        "    result = 0\n",
        "    print(\"No 1a\")\n",
        "    print(\"Metode Bagi Dua\\n\")\n",
        "    a,b = inputan(a,b)\n",
        "    if(check(a,b)):\n",
        "        e = float(input(\"Masukan nilai ketelitiannya : \"))\n",
        "        result = process(a,b,e)\n",
        "        print (\"Hasil = \",result)\n",
        "    else:\n",
        "        print (\"Data tidak sesuai tidak bisa dilanjutkan\")\n",
        "main()"
      ]
    },
    {
      "cell_type": "markdown",
      "metadata": {
        "id": "_l79MbNaaO9N"
      },
      "source": [
        "# **No 1a Metode Newton Raphson**"
      ]
    },
    {
      "cell_type": "code",
      "execution_count": null,
      "metadata": {},
      "outputs": [],
      "source": [
        "import math\n",
        "i = 1\n",
        "print(\"No 1a\")\n",
        "print(\"Metode Newton Raphson\\n\")\n",
        "iterasi = int(input(\"Masukkan iterasi : \"))\n",
        "\n",
        "def raphson(f, df, x0, e, i, iterasi):\n",
        "  if (abs(f(x0)) < e) | (i==iterasi) :\n",
        "    return x0\n",
        "  else:\n",
        "    i+=1\n",
        "    return raphson(f, df, x0 - f(x0) / df(x0), e, i, iterasi)\n",
        "    \n",
        "f = lambda x: x**3 - (2*x) + 1\n",
        "f_prime = lambda x: 2*x\n",
        "estimasi = raphson(f, f_prime, 1.5, 1e-6, i, iterasi)\n",
        "print(\"estimasi =\", estimasi)"
      ]
    },
    {
      "cell_type": "markdown",
      "metadata": {
        "id": "_l79MbNaaO9N"
      },
      "source": [
        "# **No 1b **\n",
        "No 1b tidak bisa dikerjakan karena fungsi tidak menyentuh/memotong sumbu x "
      ]
    }
  ],
  "metadata": {
    "colab": {
      "provenance": []
    },
    "kernelspec": {
      "display_name": "Python 3.10.7 64-bit",
      "language": "python",
      "name": "python3"
    },
    "language_info": {
      "codemirror_mode": {
        "name": "ipython",
        "version": 3
      },
      "file_extension": ".py",
      "mimetype": "text/x-python",
      "name": "python",
      "nbconvert_exporter": "python",
      "pygments_lexer": "ipython3",
      "version": "3.10.7"
    },
    "vscode": {
      "interpreter": {
        "hash": "27f6fea6f47ae512550f0b8facdbd035a93e1dd89633f7bf2dd00a2502c71d0d"
      }
    }
  },
  "nbformat": 4,
  "nbformat_minor": 0
}
